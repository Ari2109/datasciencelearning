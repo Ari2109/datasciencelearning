{
 "cells": [
  {
   "cell_type": "markdown",
   "metadata": {},
   "source": [
    "### Conditional"
   ]
  },
  {
   "cell_type": "code",
   "execution_count": 2,
   "metadata": {},
   "outputs": [
    {
     "name": "stdout",
     "output_type": "stream",
     "text": [
      "isi variabel angka adalah 15\n",
      "15 lebih besar dari 10\n"
     ]
    }
   ],
   "source": [
    "# review\n",
    "angka = 15\n",
    "print(f\"isi variabel angka adalah {angka}\")\n",
    "if angka < 10:\n",
    "    print(f\"{angka} lebih kecil dari 10\")\n",
    "else:\n",
    "    print(f\"{angka} lebih besar dari 10\" )"
   ]
  },
  {
   "cell_type": "code",
   "execution_count": 3,
   "metadata": {},
   "outputs": [
    {
     "name": "stdout",
     "output_type": "stream",
     "text": [
      "15 adalah bilangan ganjil\n"
     ]
    }
   ],
   "source": [
    "if angka%2 == 0:\n",
    "    print(f\"{angka} adalah bilangan genap\")\n",
    "else:\n",
    "    print(f\"{angka} adalah bilangan ganjil\" )"
   ]
  },
  {
   "cell_type": "code",
   "execution_count": 4,
   "metadata": {},
   "outputs": [
    {
     "name": "stdout",
     "output_type": "stream",
     "text": [
      "15 adalah bilangan ganjil\n"
     ]
    }
   ],
   "source": [
    "##ALTERNATE (1 is True, 0 is false)\n",
    "if angka%2:\n",
    "    print(f\"{angka} adalah bilangan ganjil\")\n",
    "else:\n",
    "    print(f\"{angka} adalah bilangan genap\" )"
   ]
  },
  {
   "cell_type": "code",
   "execution_count": 7,
   "metadata": {},
   "outputs": [
    {
     "name": "stdout",
     "output_type": "stream",
     "text": [
      "isi variabel angka adalah 15\n",
      "15 sama dengan 15\n"
     ]
    }
   ],
   "source": [
    "##else if\n",
    "print(f\"isi variabel angka adalah {angka}\")\n",
    "if angka < 15:\n",
    "    print(f\"{angka} lebih kecil dari 15\")\n",
    "elif angka == 15:\n",
    "    print(f\"{angka} sama dengan 15\")\n",
    "else:\n",
    "    print(f\"{angka} lebih besar dari 15\" )"
   ]
  },
  {
   "cell_type": "code",
   "execution_count": 13,
   "metadata": {},
   "outputs": [
    {
     "name": "stdout",
     "output_type": "stream",
     "text": [
      "ya saya mampir\n",
      "ya saya beli jeruk\n"
     ]
    }
   ],
   "source": [
    "##nested if\n",
    "buahbuahan = [\"pepaya\", \"mangga\", \"pisang\", \"jambu\", \"jeruk\"]\n",
    "if(len(buahbuahan) > 3):\n",
    "    print(\"ya saya mampir\")\n",
    "    if(\"jeruk\" in buahbuahan):\n",
    "        print(\"ya saya beli jeruk\")\n",
    "    else:\n",
    "        print(\"gaada jeruk\")\n",
    "        if(\"pepaya\" in buahbuahan):\n",
    "            print(\"yaudah beli pepaya\")\n",
    "else:\n",
    "    print(\"ga mampir, buahnya kurang variatif\")    "
   ]
  },
  {
   "cell_type": "code",
   "execution_count": 18,
   "metadata": {},
   "outputs": [
    {
     "name": "stdout",
     "output_type": "stream",
     "text": [
      "Nilai A++++++\n"
     ]
    }
   ],
   "source": [
    "# nilai \n",
    "nilai = 70\n",
    "if(nilai > 100):\n",
    "    print(\"Nilai A++++++\")\n",
    "elif(nilai >=85):\n",
    "    print(\"Nilai A\")\n",
    "elif(nilai >=65):\n",
    "    print(\"Nilai B\")\n",
    "elif(nilai >=50):\n",
    "    print(\"Nilai C\")\n",
    "elif(nilai >=25):\n",
    "    print(\"nilai D\")\n",
    "else:\n",
    "    print(\"nilai E\")"
   ]
  },
  {
   "cell_type": "markdown",
   "metadata": {},
   "source": [
    "### Loop"
   ]
  },
  {
   "cell_type": "code",
   "execution_count": 20,
   "metadata": {},
   "outputs": [
    {
     "name": "stdout",
     "output_type": "stream",
     "text": [
      "ulang ulangi\n",
      "ulang ulangi\n",
      "ulang ulangi\n",
      "ulang ulangi\n",
      "ulang ulangi\n"
     ]
    }
   ],
   "source": [
    "#while\n",
    "ulang =5\n",
    "while ulang > 0:\n",
    "    print(\"ulang ulangi\")\n",
    "    ulang -=1"
   ]
  },
  {
   "cell_type": "code",
   "execution_count": 23,
   "metadata": {},
   "outputs": [
    {
     "name": "stdout",
     "output_type": "stream",
     "text": [
      "7 x 1 = 7\n",
      "7 x 2 = 14\n",
      "7 x 3 = 21\n",
      "7 x 4 = 28\n",
      "7 x 5 = 35\n",
      "7 x 6 = 42\n",
      "7 x 7 = 49\n",
      "7 x 8 = 56\n",
      "7 x 9 = 63\n",
      "7 x 10 = 70\n"
     ]
    }
   ],
   "source": [
    "#tabel perkalian 7\n",
    "i = 1\n",
    "while i <= 10:\n",
    "    print(f\"{7} x {i} = {7*i}\")\n",
    "    i += 1"
   ]
  },
  {
   "cell_type": "code",
   "execution_count": 24,
   "metadata": {},
   "outputs": [
    {
     "name": "stdout",
     "output_type": "stream",
     "text": [
      "120\n"
     ]
    }
   ],
   "source": [
    "# kalkulator 5 input\n",
    "jml_input = 5\n",
    "hasil = 1\n",
    "while jml_input > 0:\n",
    "    angka = input(\"masukkan angka: \")\n",
    "    hasil *= eval(angka)\n",
    "    jml_input -=1\n",
    "print(hasil)"
   ]
  },
  {
   "cell_type": "code",
   "execution_count": 26,
   "metadata": {},
   "outputs": [
    {
     "name": "stdout",
     "output_type": "stream",
     "text": [
      "nasi\n",
      "mie\n",
      "teh\n",
      "jeruk\n"
     ]
    }
   ],
   "source": [
    "# studi kasus\n",
    "daftar_pesanan = []\n",
    "pesanan = \"\"\n",
    "while pesanan != \"cukup\":\n",
    "    pesanan = input(\"masukkan pesanan: \")\n",
    "    if(pesanan != \"cukup\"):\n",
    "        daftar_pesanan.append(pesanan)\n",
    "for x in daftar_pesanan:\n",
    "    print(x)\n"
   ]
  },
  {
   "cell_type": "code",
   "execution_count": 27,
   "metadata": {},
   "outputs": [
    {
     "name": "stdout",
     "output_type": "stream",
     "text": [
      "1\n",
      "2\n",
      "3\n",
      "4\n",
      "5\n",
      "6\n",
      "7\n",
      "8\n",
      "9\n",
      "10\n"
     ]
    }
   ],
   "source": [
    "# break and continue\n",
    "for i in range(1,11):\n",
    "    print(i)"
   ]
  },
  {
   "cell_type": "code",
   "execution_count": null,
   "metadata": {},
   "outputs": [],
   "source": []
  }
 ],
 "metadata": {
  "interpreter": {
   "hash": "b444e4c6b43e1cdbf64ee973f3cda26ffb97f12fcca08208d8444f37a51bcb11"
  },
  "kernelspec": {
   "display_name": "Python 3.8.8 64-bit ('base': conda)",
   "language": "python",
   "name": "python3"
  },
  "language_info": {
   "codemirror_mode": {
    "name": "ipython",
    "version": 3
   },
   "file_extension": ".py",
   "mimetype": "text/x-python",
   "name": "python",
   "nbconvert_exporter": "python",
   "pygments_lexer": "ipython3",
   "version": "3.8.8"
  },
  "orig_nbformat": 4
 },
 "nbformat": 4,
 "nbformat_minor": 2
}
