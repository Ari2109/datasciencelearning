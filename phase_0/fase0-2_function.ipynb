{
 "cells": [
  {
   "cell_type": "code",
   "execution_count": null,
   "metadata": {},
   "outputs": [],
   "source": [
    "#case\n",
    "panjang = 20\n",
    "lebar = 10\n",
    "luas = panjang * lebar\n",
    "print(luas)"
   ]
  },
  {
   "cell_type": "code",
   "execution_count": 1,
   "metadata": {},
   "outputs": [
    {
     "name": "stdout",
     "output_type": "stream",
     "text": [
      "200\n",
      "600\n"
     ]
    }
   ],
   "source": [
    "def luas_persegipanjang(panjang, lebar):\n",
    "    luas = panjang*lebar\n",
    "    print(luas)\n",
    "\n",
    "luas_persegipanjang(20,10)\n",
    "luas_persegipanjang(30,20)"
   ]
  },
  {
   "cell_type": "code",
   "execution_count": 9,
   "metadata": {},
   "outputs": [
    {
     "name": "stdout",
     "output_type": "stream",
     "text": [
      "+\n",
      "+\n",
      "+\n",
      "+\n",
      "+\n"
     ]
    }
   ],
   "source": [
    "def cetak_plus(n):\n",
    "    if n<=0:\n",
    "        print (\"input salah\")\n",
    "    else:\n",
    "        for p in range(n):\n",
    "            print(\"+\")\n",
    "cetak_plus(5)"
   ]
  },
  {
   "cell_type": "code",
   "execution_count": 15,
   "metadata": {},
   "outputs": [
    {
     "name": "stdout",
     "output_type": "stream",
     "text": [
      "[2, 4, 6]\n",
      "[]\n"
     ]
    }
   ],
   "source": [
    "def angka_genap(daftar_angka):\n",
    "    hasil = []\n",
    "    for angka in daftar_angka:\n",
    "        if angka!=0:\n",
    "            if angka%2 ==0:\n",
    "                hasil.append(angka)\n",
    "    print(hasil)\n",
    "\n",
    "angka_genap([1,2,3,4,5,6])\n",
    "angka_genap([0,1,3,5,7])"
   ]
  },
  {
   "cell_type": "code",
   "execution_count": 21,
   "metadata": {},
   "outputs": [
    {
     "name": "stdout",
     "output_type": "stream",
     "text": [
      "Halo Anton dari Malaysia\n",
      "Halo Ardi dari Jerman\n"
     ]
    }
   ],
   "source": [
    "def sapa_kenal(nama, negara='Indonesia'):\n",
    "    print(f\"Halo {nama} dari {negara}\")\n",
    "#sapa_kenal(negara='Singapura')\n",
    "sapa_kenal('Anton', 'Malaysia')\n",
    "sapa_kenal(negara='Jerman', nama=\"Ardi\")"
   ]
  },
  {
   "cell_type": "code",
   "execution_count": 49,
   "metadata": {},
   "outputs": [
    {
     "name": "stdout",
     "output_type": "stream",
     "text": [
      "Bilangan 1 harus diisi\n"
     ]
    },
    {
     "ename": "TypeError",
     "evalue": "'<=' not supported between instances of 'str' and 'int'",
     "output_type": "error",
     "traceback": [
      "\u001b[1;31m---------------------------------------------------------------------------\u001b[0m",
      "\u001b[1;31mTypeError\u001b[0m                                 Traceback (most recent call last)",
      "\u001b[1;32m<ipython-input-49-387fcda79aa2>\u001b[0m in \u001b[0;36m<module>\u001b[1;34m\u001b[0m\n\u001b[0;32m     16\u001b[0m             \u001b[1;32mreturn\u001b[0m \u001b[0mluas\u001b[0m\u001b[1;33m\u001b[0m\u001b[1;33m\u001b[0m\u001b[0m\n\u001b[0;32m     17\u001b[0m \u001b[1;33m\u001b[0m\u001b[0m\n\u001b[1;32m---> 18\u001b[1;33m \u001b[0mx\u001b[0m \u001b[1;33m=\u001b[0m \u001b[0mluas_bidang\u001b[0m\u001b[1;33m(\u001b[0m\u001b[1;34m'persegi'\u001b[0m\u001b[1;33m,\u001b[0m \u001b[0mbilangan2\u001b[0m\u001b[1;33m=\u001b[0m\u001b[1;33m-\u001b[0m\u001b[1;36m2\u001b[0m\u001b[1;33m)\u001b[0m\u001b[1;33m\u001b[0m\u001b[1;33m\u001b[0m\u001b[0m\n\u001b[0m\u001b[0;32m     19\u001b[0m \u001b[0mprint\u001b[0m\u001b[1;33m(\u001b[0m\u001b[0mx\u001b[0m\u001b[1;33m)\u001b[0m\u001b[1;33m\u001b[0m\u001b[1;33m\u001b[0m\u001b[0m\n",
      "\u001b[1;32m<ipython-input-49-387fcda79aa2>\u001b[0m in \u001b[0;36mluas_bidang\u001b[1;34m(mode, bilangan1, bilangan2)\u001b[0m\n\u001b[0;32m      6\u001b[0m     \u001b[1;32melif\u001b[0m\u001b[1;33m(\u001b[0m\u001b[0mbilangan2\u001b[0m\u001b[1;33m==\u001b[0m\u001b[1;34m''\u001b[0m\u001b[1;33m)\u001b[0m\u001b[1;33m:\u001b[0m\u001b[1;33m\u001b[0m\u001b[1;33m\u001b[0m\u001b[0m\n\u001b[0;32m      7\u001b[0m         \u001b[0mbilangan2\u001b[0m\u001b[1;33m=\u001b[0m\u001b[0mbilangan1\u001b[0m\u001b[1;33m\u001b[0m\u001b[1;33m\u001b[0m\u001b[0m\n\u001b[1;32m----> 8\u001b[1;33m     \u001b[1;32mif\u001b[0m\u001b[1;33m(\u001b[0m\u001b[0mbilangan1\u001b[0m\u001b[1;33m<=\u001b[0m\u001b[1;36m0\u001b[0m \u001b[1;33m|\u001b[0m \u001b[0mbilangan2\u001b[0m\u001b[1;33m<=\u001b[0m\u001b[1;36m0\u001b[0m\u001b[1;33m)\u001b[0m\u001b[1;33m:\u001b[0m\u001b[1;33m\u001b[0m\u001b[1;33m\u001b[0m\u001b[0m\n\u001b[0m\u001b[0;32m      9\u001b[0m         \u001b[0mprint\u001b[0m\u001b[1;33m(\u001b[0m\u001b[1;34m'Sisi tidak boleh 0 atau negatif'\u001b[0m\u001b[1;33m)\u001b[0m\u001b[1;33m\u001b[0m\u001b[1;33m\u001b[0m\u001b[0m\n\u001b[0;32m     10\u001b[0m     \u001b[1;32melse\u001b[0m\u001b[1;33m:\u001b[0m\u001b[1;33m\u001b[0m\u001b[1;33m\u001b[0m\u001b[0m\n",
      "\u001b[1;31mTypeError\u001b[0m: '<=' not supported between instances of 'str' and 'int'"
     ]
    }
   ],
   "source": [
    "def luas_bidang(mode, bilangan1='', bilangan2=''):\n",
    "    if((bilangan1 =='') & (bilangan2 == '')):\n",
    "        print('Input kurang angka')\n",
    "    elif(bilangan1==''):\n",
    "        print('Bilangan 1 harus diisi')\n",
    "    elif(bilangan2==''):\n",
    "        bilangan2=bilangan1\n",
    "    if(bilangan1<=0 | bilangan2<=0):\n",
    "        print('Sisi tidak boleh 0 atau negatif')\n",
    "    else:\n",
    "        if(mode=='persegi'):\n",
    "            luas = bilangan1 * bilangan2\n",
    "            return luas\n",
    "        else:\n",
    "            luas = bilangan1 * bilangan2 / 2\n",
    "            return luas\n",
    "\n",
    "x = luas_bidang('persegi', bilangan2=-2)\n",
    "print(x)"
   ]
  },
  {
   "cell_type": "code",
   "execution_count": 50,
   "metadata": {},
   "outputs": [
    {
     "data": {
      "text/plain": [
       "40"
      ]
     },
     "execution_count": 50,
     "metadata": {},
     "output_type": "execute_result"
    }
   ],
   "source": [
    "#asterisk: contains rest of the arguments as tuple\n",
    "def cetak_angka(posisi, *daftar_angka):\n",
    "    if posisi > len(daftar_angka):\n",
    "        hasil = -1\n",
    "    else:\n",
    "        hasil = daftar_angka[posisi]\n",
    "    return hasil\n",
    "\n",
    "cetak_angka(3,10,20,30,40)"
   ]
  },
  {
   "cell_type": "code",
   "execution_count": 51,
   "metadata": {},
   "outputs": [
    {
     "name": "stdout",
     "output_type": "stream",
     "text": [
      "{'anwar': 90, 'budi': 40, 'charlie': 100}\n",
      "charlie\n"
     ]
    }
   ],
   "source": [
    "def cek_nilai(**daftar_siswa):\n",
    "    print(daftar_siswa)\n",
    "\n",
    "    daftar_nama = list(daftar_siswa.keys())\n",
    "    daftar_nilai = list(daftar_siswa.values())\n",
    "    nilai_maks = 0\n",
    "    nama_maks = ''\n",
    "    for index, nilai in enumerate (daftar_nilai):\n",
    "        if nilai >= nilai_maks:\n",
    "            nilai_maks = nilai\n",
    "            nama_maks = daftar_nama[index]\n",
    "    return nama_maks\n",
    "\n",
    "nama=cek_nilai(anwar = 90, budi =40, charlie = 100)\n",
    "print (nama)"
   ]
  },
  {
   "cell_type": "code",
   "execution_count": null,
   "metadata": {},
   "outputs": [],
   "source": []
  }
 ],
 "metadata": {
  "interpreter": {
   "hash": "b444e4c6b43e1cdbf64ee973f3cda26ffb97f12fcca08208d8444f37a51bcb11"
  },
  "kernelspec": {
   "display_name": "Python 3.8.8 64-bit ('base': conda)",
   "language": "python",
   "name": "python3"
  },
  "language_info": {
   "codemirror_mode": {
    "name": "ipython",
    "version": 3
   },
   "file_extension": ".py",
   "mimetype": "text/x-python",
   "name": "python",
   "nbconvert_exporter": "python",
   "pygments_lexer": "ipython3",
   "version": "3.8.8"
  },
  "orig_nbformat": 4
 },
 "nbformat": 4,
 "nbformat_minor": 2
}
