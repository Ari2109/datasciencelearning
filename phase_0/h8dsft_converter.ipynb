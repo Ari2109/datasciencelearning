{
 "cells": [
  {
   "cell_type": "markdown",
   "metadata": {},
   "source": [
    "#### Celsius-Kelvin "
   ]
  },
  {
   "cell_type": "code",
   "execution_count": 45,
   "metadata": {},
   "outputs": [],
   "source": [
    "#celsius_kelvin mengubah dari C ke K dan sebaliknya. Temperature diisi dengan suhu \n",
    "#dan scale diisi dengan suhu awalnya  \n",
    "def celsius_kelvin(temperature, scale):\n",
    "    if(scale.lower() =='c'):\n",
    "        new_temp = temperature+273\n",
    "        new_scale = 'K'\n",
    "        return new_temp, new_scale\n",
    "    elif(scale.lower() == 'k'):\n",
    "        new_temp = temperature-273\n",
    "        new_scale = 'C'\n",
    "        return new_temp, new_scale\n"
   ]
  },
  {
   "cell_type": "code",
   "execution_count": 46,
   "metadata": {},
   "outputs": [
    {
     "name": "stdout",
     "output_type": "stream",
     "text": [
      "Terdapat kesalahan input. Coba lagi\n"
     ]
    }
   ],
   "source": [
    "#memasukkan input suhu angka dan evaluate (bila input angka, otomatis diubah jadi int atau float)\n",
    "tempr = input(\"Selamat datang di konverter celsius-kelvin. Pertama, masukkan angka temperatur: \")\n",
    "tempr = eval(tempr)\n",
    "#memasukkan skala awal\n",
    "tempr_begin = input(\"Selanjutnya, masukkan suhu awal: \\n C untuk Celsius, \\n K untuk Kelvin\")\n",
    "#cek apakah hurufnya benar c atau k, dan print pesan coba lagi bila bukan keduanya\n",
    "if((tempr_begin.lower() == 'c') | (tempr_begin.lower() == 'k')):\n",
    "    suhuakhir, skala = celsius_kelvin(tempr, tempr_begin)\n",
    "    print(f\"Suhu awal = {tempr} {tempr_begin.upper()}, suhu akhir: {suhuakhir} {skala.upper()}\")\n",
    "else:\n",
    "    print(\"Terdapat kesalahan input. Coba lagi\")"
   ]
  },
  {
   "cell_type": "markdown",
   "metadata": {},
   "source": [
    "#### To Fahrenheit"
   ]
  },
  {
   "cell_type": "code",
   "execution_count": 58,
   "metadata": {},
   "outputs": [],
   "source": [
    "#to_fahrenheit mengubah suhu dari C atau K ke F. Temperature diisi dengan suhu angka\n",
    "#dan scale diisi dengan suhu awalnya  \n",
    "def to_fahrenheit(temperature, scale):\n",
    "    if(scale.lower() =='c'):\n",
    "        new_temp = temperature*9/5 + 32\n",
    "        new_scale = 'F'\n",
    "        return new_temp, new_scale\n",
    "    elif(scale.lower() == 'k'):\n",
    "        new_temp = (temperature-273) * 9/5 + 32\n",
    "        new_scale = 'F'\n",
    "        return new_temp, new_scale\n",
    "\n"
   ]
  },
  {
   "cell_type": "code",
   "execution_count": 64,
   "metadata": {},
   "outputs": [
    {
     "name": "stdout",
     "output_type": "stream",
     "text": [
      "Suhu awal = 50 K, suhu akhir: -369.4 F\n"
     ]
    }
   ],
   "source": [
    "#memasukkan input suhu angka dan evaluate (bila input angka, otomatis diubah jadi int atau float)\n",
    "tempr = input(\"Selamat datang di konverter suhu ke fahrenheit. Pertama, masukkan angka temperatur: \")\n",
    "tempr = eval(tempr)\n",
    "#memasukkan skala awal\n",
    "tempr_begin = input(\"Selanjutnya, masukkan suhu awal: \\n C untuk Celsius, \\n K untuk Kelvin\")\n",
    "#cek apakah hurufnya benar c atau k, dan print pesan coba lagi bila bukan keduanya\n",
    "if((tempr_begin.lower() == 'c') | (tempr_begin.lower() == 'k')):\n",
    "    suhuakhir, skala = to_fahrenheit(tempr, tempr_begin)\n",
    "    print(f\"Suhu awal = {tempr} {tempr_begin.upper()}, suhu akhir: {suhuakhir} {skala.upper()}\")\n",
    "else:\n",
    "    print(\"Terdapat kesalahan input. Coba lagi\")"
   ]
  },
  {
   "cell_type": "markdown",
   "metadata": {},
   "source": [
    "#### From Fahrenheit"
   ]
  },
  {
   "cell_type": "code",
   "execution_count": 68,
   "metadata": {},
   "outputs": [],
   "source": [
    "#from_fahrenheit mengubah suhu dari F ke C atau K. Temperature diisi dengan suhu \n",
    "#dan name diisi dengan suhu awalnya  \n",
    "def from_fahrenheit(temperature, scale):\n",
    "    if(scale.lower() =='c'):\n",
    "        new_temp = (temperature-32)*5/9\n",
    "        new_scale = 'C'\n",
    "        return new_temp, new_scale\n",
    "    elif(scale.lower() == 'k'):\n",
    "        new_temp = (temperature-32) * 5/9 + 273\n",
    "        new_scale = 'K'\n",
    "        return new_temp, new_scale\n",
    "\n"
   ]
  },
  {
   "cell_type": "code",
   "execution_count": 70,
   "metadata": {},
   "outputs": [
    {
     "name": "stdout",
     "output_type": "stream",
     "text": [
      "Suhu awal = 32 F, suhu akhir: 273.0 K\n"
     ]
    }
   ],
   "source": [
    "#memasukkan input suhu angka dan evaluate (bila input angka, otomatis diubah jadi int atau float)\n",
    "tempr = input(\"Selamat datang di konverter suhu dari Fahrenheit. Pertama, masukkan angka temperatur: \")\n",
    "tempr = eval(tempr)\n",
    "#memasukkan skala tujuan\n",
    "tempr_end = input(\"Selanjutnya, masukkan suhu tujuan: \\n C untuk Celsius, \\n K untuk Kelvin\")\n",
    "#cek apakah hurufnya benar c atau k, dan print pesan coba lagi bila bukan keduanya\n",
    "if((tempr_end.lower() == 'c') | (tempr_end.lower() == 'k')):\n",
    "    suhuakhir, skala = from_fahrenheit(tempr, tempr_end)\n",
    "    print(f\"Suhu awal = {tempr} F, suhu akhir: {suhuakhir} {skala.upper()}\")\n",
    "else:\n",
    "    print(\"Terdapat kesalahan input. Coba lagi\")"
   ]
  }
 ],
 "metadata": {
  "interpreter": {
   "hash": "b444e4c6b43e1cdbf64ee973f3cda26ffb97f12fcca08208d8444f37a51bcb11"
  },
  "kernelspec": {
   "display_name": "Python 3.8.8 64-bit ('base': conda)",
   "language": "python",
   "name": "python3"
  },
  "language_info": {
   "codemirror_mode": {
    "name": "ipython",
    "version": 3
   },
   "file_extension": ".py",
   "mimetype": "text/x-python",
   "name": "python",
   "nbconvert_exporter": "python",
   "pygments_lexer": "ipython3",
   "version": "3.8.8"
  },
  "orig_nbformat": 4
 },
 "nbformat": 4,
 "nbformat_minor": 2
}
